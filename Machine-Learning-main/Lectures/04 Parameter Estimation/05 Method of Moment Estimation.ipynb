{
 "cells": [
  {
   "cell_type": "markdown",
   "metadata": {},
   "source": [
    "<img src=\"./images/banner.png\" width=\"800\">"
   ]
  },
  {
   "cell_type": "markdown",
   "metadata": {},
   "source": [
    "# Method of Moments (MoM) Parameter Estimation"
   ]
  },
  {
   "cell_type": "markdown",
   "metadata": {},
   "source": [
    "The Method of Moments (MoM) is a classical technique in statistics for estimating the parameters of a probability distribution. It's known for its simplicity and intuitive approach, making it a valuable tool in the statistician's and data scientist's toolkit.\n"
   ]
  },
  {
   "cell_type": "markdown",
   "metadata": {},
   "source": [
    "At its heart, the Method of Moments is based on a simple yet powerful idea: the parameters of a distribution can be estimated by equating the theoretical moments of the distribution to the corresponding empirical moments observed in a sample of data.\n"
   ]
  },
  {
   "cell_type": "markdown",
   "metadata": {},
   "source": [
    "🔑 **Key Insight**: MoM connects theoretical properties of a distribution with observed data characteristics.\n"
   ]
  },
  {
   "cell_type": "markdown",
   "metadata": {},
   "source": [
    "In probability theory and statistics, moments are quantitative measures related to the shape of a distribution:\n",
    "\n",
    "1. First moment: Expected value (mean)\n",
    "2. Second moment: Variance\n",
    "3. Third moment: Related to skewness\n",
    "4. Fourth moment: Related to kurtosis\n"
   ]
  },
  {
   "cell_type": "markdown",
   "metadata": {},
   "source": [
    "Higher moments provide information about more subtle aspects of the distribution's shape.\n"
   ]
  },
  {
   "cell_type": "markdown",
   "metadata": {},
   "source": [
    "The method works by solving equations that set the population moments equal to the sample moments:\n",
    "\n",
    "$$E[X^k] = \\frac{1}{n} \\sum_{i=1}^n x_i^k$$\n",
    "\n",
    "Where:\n",
    "- $E[X^k]$ is the $k$-th theoretical moment\n",
    "- $\\frac{1}{n} \\sum_{i=1}^n x_i^k$ is the $k$-th sample moment\n"
   ]
  },
  {
   "cell_type": "markdown",
   "metadata": {},
   "source": [
    "Consider estimating the parameters of a normal distribution $N(\\mu, \\sigma^2)$:\n",
    "\n",
    "1. First moment (mean): $\\mu = \\frac{1}{n} \\sum_{i=1}^n x_i$\n",
    "2. Second moment: $\\mu^2 + \\sigma^2 = \\frac{1}{n} \\sum_{i=1}^n x_i^2$\n"
   ]
  },
  {
   "cell_type": "markdown",
   "metadata": {},
   "source": [
    "Solving these equations gives us estimates for $\\mu$ and $\\sigma^2$.\n"
   ]
  },
  {
   "cell_type": "markdown",
   "metadata": {},
   "source": [
    "While often overshadowed by more advanced techniques like Maximum Likelihood Estimation (MLE) in modern practice, the Method of Moments remains important for several reasons:\n",
    "\n",
    "1. Simplicity and intuitive appeal\n",
    "2. Computational efficiency, especially for complex distributions\n",
    "3. Useful for initializing more sophisticated estimation procedures\n",
    "4. Sometimes provides closed-form solutions where MLE doesn't\n"
   ]
  },
  {
   "cell_type": "markdown",
   "metadata": {},
   "source": [
    "💡 **Pro Tip**: MoM can be particularly useful when dealing with distributions that are challenging for MLE, or as a quick initial estimate.\n"
   ]
  },
  {
   "cell_type": "markdown",
   "metadata": {},
   "source": [
    "In this lecture, we'll delve deeper into the mathematical foundations of MoM, explore its properties, and see how it compares to other estimation techniques. We'll also look at practical applications and implementations, giving you a comprehensive understanding of this classical yet still relevant estimation method.\n"
   ]
  },
  {
   "cell_type": "markdown",
   "metadata": {},
   "source": [
    "Understanding the Method of Moments will not only add a powerful tool to your statistical repertoire but also deepen your appreciation for the fundamental concepts underlying more advanced estimation techniques in statistics and machine learning."
   ]
  },
  {
   "cell_type": "markdown",
   "metadata": {},
   "source": [
    "**Table of contents**<a id='toc0_'></a>    \n",
    "- [Historical Context and Motivation](#toc1_)    \n",
    "  - [Motivation](#toc1_1_)    \n",
    "  - [Comparison with Contemporary Methods](#toc1_2_)    \n",
    "  - [Evolution and Modern Relevance](#toc1_3_)    \n",
    "- [Mathematical Foundations of Method of Moments](#toc2_)    \n",
    "  - [Moments and Their Properties](#toc2_1_)    \n",
    "  - [The Method of Moments Estimator](#toc2_2_)    \n",
    "  - [Example: Normal Distribution](#toc2_3_)    \n",
    "  - [Generalized Method of Moments (GMM)](#toc2_4_)    \n",
    "- [Step-by-Step Process for Applying MoM](#toc3_)    \n",
    "  - [Example: Exponential Distribution](#toc3_1_)    \n",
    "  - [Practical Considerations](#toc3_2_)    \n",
    "- [Comparison with Other Estimation Techniques](#toc4_)    \n",
    "  - [MoM vs. Maximum Likelihood Estimation (MLE)](#toc4_1_)    \n",
    "  - [Mathematical Comparison](#toc4_2_)    \n",
    "  - [MoM vs. Bayesian Estimation](#toc4_3_)    \n",
    "  - [Practical Considerations](#toc4_4_)    \n",
    "  - [Example: Estimating Mean and Variance](#toc4_5_)    \n",
    "  - [Key Takeaways](#toc4_6_)    \n",
    "- [Summary](#toc5_)    \n",
    "\n",
    "<!-- vscode-jupyter-toc-config\n",
    "\tnumbering=false\n",
    "\tanchor=true\n",
    "\tflat=false\n",
    "\tminLevel=2\n",
    "\tmaxLevel=6\n",
    "\t/vscode-jupyter-toc-config -->\n",
    "<!-- THIS CELL WILL BE REPLACED ON TOC UPDATE. DO NOT WRITE YOUR TEXT IN THIS CELL -->"
   ]
  },
  {
   "cell_type": "markdown",
   "metadata": {},
   "source": [
    "## <a id='toc1_'></a>[Historical Context and Motivation](#toc0_)"
   ]
  },
  {
   "cell_type": "markdown",
   "metadata": {},
   "source": [
    "The Method of Moments has a rich history in statistics, dating back to the late 19th century. Understanding its historical context and the motivation behind its development provides valuable insights into its role in statistical theory and practice.\n",
    "\n",
    "1. **Origin**: The Method of Moments was introduced by Karl Pearson in 1894. Pearson was a pioneer in mathematical statistics and was seeking methods to estimate parameters of probability distributions.\n",
    "\n",
    "2. **Early Applications**: Initially, MoM was used primarily for fitting probability distributions to data, particularly in the context of Pearson's system of continuous probability distributions.\n",
    "\n",
    "3. **Theoretical Foundations**: While Pearson introduced the method, it was later formalized and its theoretical properties were studied in depth by other statisticians in the early 20th century.\n"
   ]
  },
  {
   "cell_type": "markdown",
   "metadata": {},
   "source": [
    "### <a id='toc1_1_'></a>[Motivation](#toc0_)\n"
   ]
  },
  {
   "cell_type": "markdown",
   "metadata": {},
   "source": [
    "The development of the Method of Moments was driven by several key factors:\n",
    "\n",
    "1. **Simplicity**: There was a need for a straightforward method to estimate distribution parameters. MoM provided an intuitive approach that was computationally feasible in an era before modern computing.\n",
    "\n",
    "2. **Universality**: The method could be applied to a wide range of distributions, making it a versatile tool for statisticians.\n",
    "\n",
    "3. **Analytical Tractability**: For many distributions, MoM provided closed-form solutions, which were highly valued in an era of manual calculations.\n"
   ]
  },
  {
   "cell_type": "markdown",
   "metadata": {},
   "source": [
    "The core idea of MoM is to equate population moments with sample moments. For a random variable $X$ with distribution depending on parameter $\\theta$, we have:\n",
    "\n",
    "$$E[X^k] = \\mu_k(\\theta)$$\n"
   ]
  },
  {
   "cell_type": "markdown",
   "metadata": {},
   "source": [
    "where $\\mu_k(\\theta)$ is the $k$-th theoretical moment as a function of $\\theta$. The method sets this equal to the corresponding sample moment:\n",
    "\n",
    "$$\\frac{1}{n}\\sum_{i=1}^n X_i^k = \\hat{\\mu}_k$$\n"
   ]
  },
  {
   "cell_type": "markdown",
   "metadata": {},
   "source": [
    "This leads to a system of equations that can be solved for $\\theta$.\n"
   ]
  },
  {
   "cell_type": "markdown",
   "metadata": {},
   "source": [
    "### <a id='toc1_2_'></a>[Comparison with Contemporary Methods](#toc0_)\n"
   ]
  },
  {
   "cell_type": "markdown",
   "metadata": {},
   "source": [
    "When MoM was introduced, it provided several advantages over existing methods:\n",
    "\n",
    "1. **Versus Least Squares**: MoM was often simpler to apply than the method of least squares, especially for certain types of distributions.\n",
    "\n",
    "2. **Versus Maximum Likelihood**: MLE, though theoretically superior in many cases, was often computationally intractable. MoM provided a practical alternative.\n"
   ]
  },
  {
   "cell_type": "markdown",
   "metadata": {},
   "source": [
    "🔑 **Key Insight**: MoM bridged the gap between theoretical distributions and observed data in a computationally feasible way.\n"
   ]
  },
  {
   "cell_type": "markdown",
   "metadata": {},
   "source": [
    "### <a id='toc1_3_'></a>[Evolution and Modern Relevance](#toc0_)\n"
   ]
  },
  {
   "cell_type": "markdown",
   "metadata": {},
   "source": [
    "While MoM has been largely superseded by Maximum Likelihood Estimation and Bayesian methods in many applications, it remains relevant for several reasons:\n",
    "\n",
    "1. **Initialization**: MoM estimates are often used as starting points for iterative MLE procedures.\n",
    "\n",
    "2. **Complex Models**: In some complex statistical models, MoM can provide estimates where MLE is computationally infeasible.\n",
    "\n",
    "3. **Theoretical Insights**: The study of MoM continues to provide theoretical insights into the properties of estimators and their relationships to the underlying distributions.\n"
   ]
  },
  {
   "cell_type": "markdown",
   "metadata": {},
   "source": [
    "The Method of Moments emerged from the need for practical, widely applicable parameter estimation techniques. Its development marked a significant step in the formalization of statistical inference. Understanding its historical context and motivation provides a deeper appreciation of its role in the evolution of statistical theory and practice.\n"
   ]
  },
  {
   "cell_type": "markdown",
   "metadata": {},
   "source": [
    "As we delve deeper into the mathematical foundations and applications of MoM, keep in mind the historical context that shaped its development and the practical needs it was designed to address."
   ]
  },
  {
   "cell_type": "markdown",
   "metadata": {},
   "source": [
    "## <a id='toc2_'></a>[Mathematical Foundations of Method of Moments](#toc0_)"
   ]
  },
  {
   "cell_type": "markdown",
   "metadata": {},
   "source": [
    "The Method of Moments is grounded in the relationship between theoretical moments of a probability distribution and the observed moments in a sample. Let's explore the mathematical foundations that underpin this method.\n"
   ]
  },
  {
   "cell_type": "markdown",
   "metadata": {},
   "source": [
    "### <a id='toc2_1_'></a>[Moments and Their Properties](#toc0_)\n"
   ]
  },
  {
   "cell_type": "markdown",
   "metadata": {},
   "source": [
    "Moments are fundamental quantities that describe the shape and characteristics of a probability distribution.\n",
    "\n",
    "1. **Population Moments**: For a random variable $X$ with probability distribution $f(x;\\theta)$, where $\\theta$ is a parameter vector, the $k$-th moment is defined as:\n",
    "\n",
    "   $$\\mu_k = E[X^k] = \\int_{-\\infty}^{\\infty} x^k f(x;\\theta) dx$$\n",
    "\n",
    "2. **Sample Moments**: Given a sample $\\{X_1, X_2, ..., X_n\\}$, the $k$-th sample moment is:\n",
    "\n",
    "   $$m_k = \\frac{1}{n} \\sum_{i=1}^n X_i^k$$\n"
   ]
  },
  {
   "cell_type": "markdown",
   "metadata": {},
   "source": [
    "The core principle of MoM is to equate these population and sample moments.\n"
   ]
  },
  {
   "cell_type": "markdown",
   "metadata": {},
   "source": [
    "### <a id='toc2_2_'></a>[The Method of Moments Estimator](#toc0_)\n"
   ]
  },
  {
   "cell_type": "markdown",
   "metadata": {},
   "source": [
    "The MoM estimator is derived by solving a system of equations that equate sample moments to population moments:\n",
    "\n",
    "$$m_k = \\mu_k(\\theta) \\quad \\text{for } k = 1, 2, ..., p$$\n",
    "\n",
    "where $p$ is the number of parameters to be estimated.\n"
   ]
  },
  {
   "cell_type": "markdown",
   "metadata": {},
   "source": [
    "For a distribution with $p$ parameters, we generally need $p$ equations to solve for the $p$ unknowns. This leads to a system of equations:\n",
    "\n",
    "$$\\begin{aligned}\n",
    "m_1 &= \\mu_1(\\theta_1, ..., \\theta_p) \\\\\n",
    "m_2 &= \\mu_2(\\theta_1, ..., \\theta_p) \\\\\n",
    "&\\vdots \\\\\n",
    "m_p &= \\mu_p(\\theta_1, ..., \\theta_p)\n",
    "\\end{aligned}$$\n"
   ]
  },
  {
   "cell_type": "markdown",
   "metadata": {},
   "source": [
    "Solving this system yields the Method of Moments estimators $\\hat{\\theta}_1, ..., \\hat{\\theta}_p$.\n"
   ]
  },
  {
   "cell_type": "markdown",
   "metadata": {},
   "source": [
    "### <a id='toc2_3_'></a>[Example: Normal Distribution](#toc0_)\n"
   ]
  },
  {
   "cell_type": "markdown",
   "metadata": {},
   "source": [
    "For a normal distribution $N(\\mu, \\sigma^2)$, we have two parameters to estimate. We use the first two moments:\n",
    "\n",
    "1. $E[X] = \\mu$\n",
    "2. $E[X^2] = \\mu^2 + \\sigma^2$\n"
   ]
  },
  {
   "cell_type": "markdown",
   "metadata": {},
   "source": [
    "Equating these to sample moments:\n",
    "\n",
    "1. $\\frac{1}{n} \\sum_{i=1}^n X_i = \\hat{\\mu}$\n",
    "2. $\\frac{1}{n} \\sum_{i=1}^n X_i^2 = \\hat{\\mu}^2 + \\hat{\\sigma}^2$\n"
   ]
  },
  {
   "cell_type": "markdown",
   "metadata": {},
   "source": [
    "Solving these equations gives us the MoM estimators:\n",
    "\n",
    "$$\\hat{\\mu} = \\frac{1}{n} \\sum_{i=1}^n X_i$$\n",
    "$$\\hat{\\sigma}^2 = \\frac{1}{n} \\sum_{i=1}^n X_i^2 - \\hat{\\mu}^2$$\n"
   ]
  },
  {
   "cell_type": "markdown",
   "metadata": {},
   "source": [
    "### <a id='toc2_4_'></a>[Generalized Method of Moments (GMM)](#toc0_)\n"
   ]
  },
  {
   "cell_type": "markdown",
   "metadata": {},
   "source": [
    "An extension of the classical MoM is the Generalized Method of Moments, which allows for more moment conditions than parameters and uses a weighting matrix to optimize the estimation. GMM has found wide applications in econometrics and financial modeling.\n"
   ]
  },
  {
   "cell_type": "markdown",
   "metadata": {},
   "source": [
    "Understanding these mathematical foundations is crucial for applying MoM effectively and for appreciating its strengths and limitations in various statistical and machine learning contexts. In the next sections, we'll explore practical applications and compare MoM with other estimation techniques."
   ]
  },
  {
   "cell_type": "markdown",
   "metadata": {},
   "source": [
    "## <a id='toc3_'></a>[Step-by-Step Process for Applying MoM](#toc0_)"
   ]
  },
  {
   "cell_type": "markdown",
   "metadata": {},
   "source": [
    "Applying the Method of Moments involves a systematic approach to estimate parameters of a probability distribution. Let's break down this process into clear, actionable steps.\n"
   ]
  },
  {
   "cell_type": "markdown",
   "metadata": {},
   "source": [
    "- **Step 1: Identify the Distribution and Parameters**\n"
   ]
  },
  {
   "cell_type": "markdown",
   "metadata": {},
   "source": [
    "Begin by specifying the probability distribution you believe your data follows and identify the parameters you need to estimate.\n"
   ]
  },
  {
   "cell_type": "markdown",
   "metadata": {},
   "source": [
    "Example: For a normal distribution, $N(\\mu, \\sigma^2)$, we need to estimate $\\mu$ and $\\sigma^2$.\n"
   ]
  },
  {
   "cell_type": "markdown",
   "metadata": {},
   "source": [
    "- **Step 2: Determine the Theoretical Moments**\n"
   ]
  },
  {
   "cell_type": "markdown",
   "metadata": {},
   "source": [
    "Express the theoretical moments of the distribution in terms of the unknown parameters. Typically, you'll use as many moments as there are parameters to estimate.\n"
   ]
  },
  {
   "cell_type": "markdown",
   "metadata": {},
   "source": [
    "For the normal distribution:\n",
    "- First moment: $E[X] = \\mu$\n",
    "- Second moment: $E[X^2] = \\mu^2 + \\sigma^2$\n"
   ]
  },
  {
   "cell_type": "markdown",
   "metadata": {},
   "source": [
    "- **Step 3: Calculate Sample Moments**\n"
   ]
  },
  {
   "cell_type": "markdown",
   "metadata": {},
   "source": [
    "Compute the corresponding sample moments from your observed data:\n",
    "\n",
    "- First sample moment: $m_1 = \\frac{1}{n} \\sum_{i=1}^n X_i$\n",
    "- Second sample moment: $m_2 = \\frac{1}{n} \\sum_{i=1}^n X_i^2$\n"
   ]
  },
  {
   "cell_type": "markdown",
   "metadata": {},
   "source": [
    "- **Step 4: Set Up and Solve Equations**\n"
   ]
  },
  {
   "cell_type": "markdown",
   "metadata": {},
   "source": [
    "Equate the theoretical moments to the sample moments and solve the resulting system of equations:\n",
    "\n",
    "$$\\begin{aligned}\n",
    "m_1 &= \\mu \\\\\n",
    "m_2 &= \\mu^2 + \\sigma^2\n",
    "\\end{aligned}$$\n"
   ]
  },
  {
   "cell_type": "markdown",
   "metadata": {},
   "source": [
    "Solving these equations gives:\n",
    "$$\\hat{\\mu} = m_1$$\n",
    "$$\\hat{\\sigma}^2 = m_2 - m_1^2$$\n"
   ]
  },
  {
   "cell_type": "markdown",
   "metadata": {},
   "source": [
    "- **Step 5: Interpret the Results**\n"
   ]
  },
  {
   "cell_type": "markdown",
   "metadata": {},
   "source": [
    "The solutions to these equations are your Method of Moments estimators. Interpret them in the context of your problem.\n"
   ]
  },
  {
   "cell_type": "markdown",
   "metadata": {},
   "source": [
    "### <a id='toc3_1_'></a>[Example: Exponential Distribution](#toc0_)\n"
   ]
  },
  {
   "cell_type": "markdown",
   "metadata": {},
   "source": [
    "Let's apply this process to the exponential distribution with parameter $\\lambda$.\n",
    "\n",
    "1. **Identify**: Exponential distribution with parameter $\\lambda$.\n",
    "\n",
    "2. **Theoretical Moment**: $E[X] = \\frac{1}{\\lambda}$\n",
    "\n",
    "3. **Sample Moment**: $m_1 = \\frac{1}{n} \\sum_{i=1}^n X_i$\n",
    "\n",
    "4. **Solve**: \n",
    "   $$m_1 = \\frac{1}{\\lambda}$$\n",
    "   $$\\hat{\\lambda} = \\frac{1}{m_1}$$\n",
    "\n",
    "5. **Interpret**: $\\hat{\\lambda}$ is the MoM estimate of the rate parameter.\n"
   ]
  },
  {
   "cell_type": "markdown",
   "metadata": {},
   "source": [
    "### <a id='toc3_2_'></a>[Practical Considerations](#toc0_)\n"
   ]
  },
  {
   "cell_type": "markdown",
   "metadata": {},
   "source": [
    "- **Complex Distributions**: For distributions with multiple parameters, you may need to use higher-order moments and solve a system of equations.\n",
    "- **Numerical Solutions**: In some cases, closed-form solutions may not exist, requiring numerical methods to solve the equations.\n",
    "- **Moment Existence**: Ensure that the moments you're using exist for the distribution in question.\n"
   ]
  },
  {
   "cell_type": "markdown",
   "metadata": {},
   "source": [
    "🔑 **Key Insight**: The Method of Moments provides a straightforward, often computationally simple approach to parameter estimation, especially valuable for distributions where other methods like Maximum Likelihood Estimation are difficult to apply.\n"
   ]
  },
  {
   "cell_type": "markdown",
   "metadata": {},
   "source": [
    "By following this step-by-step process, you can apply the Method of Moments to a wide range of probability distributions, providing a solid foundation for statistical inference and model fitting in various data analysis and machine learning tasks."
   ]
  },
  {
   "cell_type": "markdown",
   "metadata": {},
   "source": [
    "## <a id='toc4_'></a>[Comparison with Other Estimation Techniques](#toc0_)"
   ]
  },
  {
   "cell_type": "markdown",
   "metadata": {},
   "source": [
    "To fully appreciate the strengths and limitations of the Method of Moments, it's crucial to compare it with other popular estimation techniques, particularly Maximum Likelihood Estimation (MLE) and Bayesian estimation.\n"
   ]
  },
  {
   "cell_type": "markdown",
   "metadata": {},
   "source": [
    "### <a id='toc4_1_'></a>[MoM vs. Maximum Likelihood Estimation (MLE)](#toc0_)\n",
    "\n",
    "1. **Computational Complexity**\n",
    "   - MoM: Often simpler, especially for complex distributions\n",
    "   - MLE: Can be computationally intensive, sometimes requiring numerical optimization\n",
    "\n",
    "2. **Efficiency**\n",
    "   - MoM: Generally less efficient (higher variance) for large samples\n",
    "   - MLE: Asymptotically efficient, achieving the Cramér-Rao lower bound\n",
    "\n",
    "3. **Consistency**\n",
    "   - MoM: Consistent under mild conditions\n",
    "   - MLE: Consistent under regularity conditions\n",
    "\n",
    "4. **Flexibility**\n",
    "   - MoM: Can be applied even when the full likelihood is difficult to specify\n",
    "   - MLE: Requires a fully specified likelihood function\n",
    "\n",
    "5. **Robustness**\n",
    "   - MoM: Can be more robust to model misspecification\n",
    "   - MLE: More sensitive to correct model specification\n"
   ]
  },
  {
   "cell_type": "markdown",
   "metadata": {},
   "source": [
    "### <a id='toc4_2_'></a>[Mathematical Comparison](#toc0_)\n"
   ]
  },
  {
   "cell_type": "markdown",
   "metadata": {},
   "source": [
    "For a parameter $\\theta$:\n"
   ]
  },
  {
   "cell_type": "markdown",
   "metadata": {},
   "source": [
    "MoM estimator: $\\hat{\\theta}_{MoM} = g(m_1, m_2, ..., m_k)$, where $m_k$ are sample moments\n"
   ]
  },
  {
   "cell_type": "markdown",
   "metadata": {},
   "source": [
    "MLE estimator: $\\hat{\\theta}_{MLE} = \\arg\\max_\\theta L(\\theta; x_1, ..., x_n)$, where $L$ is the likelihood function\n"
   ]
  },
  {
   "cell_type": "markdown",
   "metadata": {},
   "source": [
    "### <a id='toc4_3_'></a>[MoM vs. Bayesian Estimation](#toc0_)\n"
   ]
  },
  {
   "cell_type": "markdown",
   "metadata": {},
   "source": [
    "1. **Prior Information**\n",
    "   - MoM: Does not incorporate prior information\n",
    "   - Bayesian: Explicitly incorporates prior beliefs about parameters\n",
    "\n",
    "2. **Output**\n",
    "   - MoM: Point estimates\n",
    "   - Bayesian: Full posterior distributions of parameters\n",
    "\n",
    "3. **Uncertainty Quantification**\n",
    "   - MoM: Requires additional steps for confidence intervals\n",
    "   - Bayesian: Naturally provides credible intervals\n",
    "\n",
    "4. **Computational Approach**\n",
    "   - MoM: Often analytically tractable\n",
    "   - Bayesian: May require sophisticated sampling techniques (e.g., MCMC)\n"
   ]
  },
  {
   "cell_type": "markdown",
   "metadata": {},
   "source": [
    "### <a id='toc4_4_'></a>[Practical Considerations](#toc0_)\n"
   ]
  },
  {
   "cell_type": "markdown",
   "metadata": {},
   "source": [
    "1. **Sample Size**\n",
    "   - Small Samples: MoM can be competitive or even superior to MLE\n",
    "   - Large Samples: MLE generally outperforms MoM in terms of efficiency\n",
    "\n",
    "2. **Model Complexity**\n",
    "   - Simple Models: All methods tend to perform similarly\n",
    "   - Complex Models: MoM can be advantageous when MLE is intractable\n",
    "\n",
    "3. **Initialization**\n",
    "   - MoM estimates are often used as starting points for MLE algorithms\n"
   ]
  },
  {
   "cell_type": "markdown",
   "metadata": {},
   "source": [
    "### <a id='toc4_5_'></a>[Example: Estimating Mean and Variance](#toc0_)\n"
   ]
  },
  {
   "cell_type": "markdown",
   "metadata": {},
   "source": [
    "Consider estimating $\\mu$ and $\\sigma^2$ for a normal distribution:\n"
   ]
  },
  {
   "cell_type": "markdown",
   "metadata": {},
   "source": [
    "MoM Estimators:\n",
    "$$\\hat{\\mu}_{MoM} = \\frac{1}{n}\\sum_{i=1}^n X_i, \\quad \\hat{\\sigma}^2_{MoM} = \\frac{1}{n}\\sum_{i=1}^n (X_i - \\hat{\\mu}_{MoM})^2$$\n"
   ]
  },
  {
   "cell_type": "markdown",
   "metadata": {},
   "source": [
    "MLE Estimators:\n",
    "$$\\hat{\\mu}_{MLE} = \\frac{1}{n}\\sum_{i=1}^n X_i, \\quad \\hat{\\sigma}^2_{MLE} = \\frac{1}{n}\\sum_{i=1}^n (X_i - \\hat{\\mu}_{MLE})^2$$\n"
   ]
  },
  {
   "cell_type": "markdown",
   "metadata": {},
   "source": [
    "Note that for the normal distribution, MoM and MLE coincide for $\\mu$, but MLE provides a slightly different (and more efficient) estimator for $\\sigma^2$ (using $n$ instead of $n-1$ in the denominator).\n"
   ]
  },
  {
   "cell_type": "markdown",
   "metadata": {},
   "source": [
    "### <a id='toc4_6_'></a>[Key Takeaways](#toc0_)\n"
   ]
  },
  {
   "cell_type": "markdown",
   "metadata": {},
   "source": [
    "1. MoM is often simpler and more computationally efficient than MLE or Bayesian methods.\n",
    "2. MLE is generally more efficient for large samples and well-specified models.\n",
    "3. Bayesian methods offer the most comprehensive uncertainty quantification but can be computationally intensive.\n",
    "4. The choice between methods often depends on the specific problem, computational resources, and the need for uncertainty quantification.\n"
   ]
  },
  {
   "cell_type": "markdown",
   "metadata": {},
   "source": [
    "Understanding these comparisons allows you to make informed decisions about which estimation technique to use in various statistical and machine learning scenarios, balancing simplicity, efficiency, and the specific requirements of your analysis."
   ]
  },
  {
   "cell_type": "markdown",
   "metadata": {},
   "source": [
    "## <a id='toc5_'></a>[Summary](#toc0_)"
   ]
  },
  {
   "cell_type": "markdown",
   "metadata": {},
   "source": [
    "As we conclude our exploration of the Method of Moments, let's recap the key points and reflect on the importance of this estimation technique in statistics and machine learning. Understanding the Method of Moments provides a solid foundation for parameter estimation and model fitting, offering a simple yet powerful approach to connecting theoretical distributions with observed data. Let's summarize the key takeaways from this lecture:\n",
    "\n",
    "1. **Fundamental Principle**: MoM equates theoretical moments of a distribution to sample moments from observed data.\n",
    "\n",
    "2. **Mathematical Foundation**: \n",
    "   $$E[X^k] = \\mu_k(\\theta) \\approx \\frac{1}{n}\\sum_{i=1}^n X_i^k$$\n",
    "   where $\\mu_k(\\theta)$ is the $k$-th theoretical moment and the right side is the $k$-th sample moment.\n",
    "\n",
    "3. **Process**: \n",
    "   - Identify distribution and parameters\n",
    "   - Determine theoretical moments\n",
    "   - Calculate sample moments\n",
    "   - Solve equations to estimate parameters\n",
    "\n",
    "4. **Properties**:\n",
    "   - Consistency: Converges to true parameters as sample size increases\n",
    "   - Simplicity: Often leads to closed-form solutions\n",
    "   - Computational Efficiency: Generally simpler than MLE for complex distributions\n",
    "\n",
    "5. **Comparative Strengths**:\n",
    "   - Applicable when likelihood is difficult to specify\n",
    "   - Useful for initializing more complex estimation procedures\n",
    "   - Can be more robust to model misspecification\n"
   ]
  },
  {
   "cell_type": "markdown",
   "metadata": {},
   "source": [
    "🔑 The Method of Moments, while simple, remains a powerful tool in the statistician's and data scientist's toolkit. Its simplicity, computational efficiency, and wide applicability make it valuable in various scenarios, especially as a complementary technique to more advanced methods.\n"
   ]
  },
  {
   "cell_type": "markdown",
   "metadata": {},
   "source": [
    "Understanding the Method of Moments provides insight into the fundamental relationship between theoretical distributions and observed data. As you progress in your statistical and machine learning journey, remember that MoM offers a pragmatic approach to parameter estimation, often serving as a bridge between raw data and more sophisticated analytical techniques.\n"
   ]
  },
  {
   "cell_type": "markdown",
   "metadata": {},
   "source": [
    "By mastering MoM alongside other estimation methods, you'll be well-equipped to tackle a wide range of parameter estimation challenges in your data science and machine learning projects, choosing the most appropriate technique for each specific scenario."
   ]
  }
 ],
 "metadata": {
  "language_info": {
   "name": "python"
  }
 },
 "nbformat": 4,
 "nbformat_minor": 2
}
